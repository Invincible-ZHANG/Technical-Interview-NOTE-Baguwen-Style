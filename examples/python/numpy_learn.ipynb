{
  "metadata": {
    "kernelspec": {
      "name": "python",
      "display_name": "Python (Pyodide)",
      "language": "python"
    },
    "language_info": {
      "codemirror_mode": {
        "name": "python",
        "version": 3
      },
      "file_extension": ".py",
      "mimetype": "text/x-python",
      "name": "python",
      "nbconvert_exporter": "python",
      "pygments_lexer": "ipython3",
      "version": "3.8"
    }
  },
  "nbformat_minor": 5,
  "nbformat": 4,
  "cells": [
    {
      "id": "fddbc57b-8501-4c9a-8788-447f8c3beec1",
      "cell_type": "code",
      "source": "# Python",
      "metadata": {
        "trusted": true
      },
      "outputs": [],
      "execution_count": 14
    },
    {
      "id": "d0efb2fa-1250-45b3-9ca0-605aa57f99e3",
      "cell_type": "code",
      "source": "def quicksort(array):\n    if len(array) <= 1:\n        return array\n    pivot = array[len(array) // 2]\n    left = [x for x in array if x < pivot]\n    middle = [x for x in array if x == pivot]\n    right = [x for x in array if x > pivot]\n    return quicksort(left) + middle + quicksort(right)\n\nprint (quicksort([3,6,8,10,1,2,1]))",
      "metadata": {
        "trusted": true
      },
      "outputs": [
        {
          "name": "stdout",
          "output_type": "stream",
          "text": "[1, 1, 2, 3, 6, 8, 10]\n"
        }
      ],
      "execution_count": 2
    },
    {
      "id": "1aa201bd-18af-49c5-ba3b-ad9a7573dbe4",
      "cell_type": "code",
      "source": "# 基本数据类型",
      "metadata": {
        "trusted": true
      },
      "outputs": [],
      "execution_count": null
    },
    {
      "id": "35815e4a-fa6e-40d3-8c68-278c9d5809d3",
      "cell_type": "code",
      "source": "x = 3\nprint (type(x))",
      "metadata": {
        "trusted": true
      },
      "outputs": [
        {
          "name": "stdout",
          "output_type": "stream",
          "text": "<class 'int'>\n"
        }
      ],
      "execution_count": 4
    },
    {
      "id": "35fce5c4-8f2c-45de-84a1-f0371fad074e",
      "cell_type": "code",
      "source": "print (x)",
      "metadata": {
        "trusted": true
      },
      "outputs": [
        {
          "name": "stdout",
          "output_type": "stream",
          "text": "3\n"
        }
      ],
      "execution_count": 5
    },
    {
      "id": "2b6022c5-f586-4718-948b-2d514a1df4d1",
      "cell_type": "code",
      "source": "print(x + 1)",
      "metadata": {
        "trusted": true
      },
      "outputs": [
        {
          "name": "stdout",
          "output_type": "stream",
          "text": "4\n"
        }
      ],
      "execution_count": 6
    },
    {
      "id": "b90e4258-8b71-4482-93a9-3d3ef6fe86ed",
      "cell_type": "code",
      "source": "print(x - 1)",
      "metadata": {
        "trusted": true
      },
      "outputs": [
        {
          "name": "stdout",
          "output_type": "stream",
          "text": "2\n"
        }
      ],
      "execution_count": 7
    },
    {
      "id": "5c012d64-dbf0-438f-b577-672f96ea1cff",
      "cell_type": "code",
      "source": "print (x * 2)",
      "metadata": {
        "trusted": true
      },
      "outputs": [
        {
          "name": "stdout",
          "output_type": "stream",
          "text": "6\n"
        }
      ],
      "execution_count": 8
    },
    {
      "id": "7d8c981b-0d7b-4f50-af53-f4718852a3ef",
      "cell_type": "code",
      "source": "y = 2.5\nprint(type(y))",
      "metadata": {
        "trusted": true
      },
      "outputs": [
        {
          "name": "stdout",
          "output_type": "stream",
          "text": "<class 'float'>\n"
        }
      ],
      "execution_count": 10
    },
    {
      "id": "d03e3eb5-84f5-40c2-8fad-aab2e991c7ca",
      "cell_type": "code",
      "source": "print (y, y + 1, y * 2, y ** 2)",
      "metadata": {
        "trusted": true
      },
      "outputs": [
        {
          "name": "stdout",
          "output_type": "stream",
          "text": "2.5 3.5 5.0 6.25\n"
        }
      ],
      "execution_count": 12
    },
    {
      "id": "d59f709c-2400-4b1c-9a4f-e234f93d75d0",
      "cell_type": "code",
      "source": "# 布尔型",
      "metadata": {
        "trusted": true
      },
      "outputs": [],
      "execution_count": 15
    },
    {
      "id": "e2cc3dc9-18fd-4848-a2fd-b3a37e5c3361",
      "cell_type": "code",
      "source": "t = True\nf = False\nprint(type(t))",
      "metadata": {
        "trusted": true
      },
      "outputs": [
        {
          "name": "stdout",
          "output_type": "stream",
          "text": "<class 'bool'>\n"
        }
      ],
      "execution_count": 16
    },
    {
      "id": "fb970a4a-e33b-46cc-abbc-63c8d8742619",
      "cell_type": "code",
      "source": "print (t and f )",
      "metadata": {
        "trusted": true
      },
      "outputs": [
        {
          "name": "stdout",
          "output_type": "stream",
          "text": "False\n"
        }
      ],
      "execution_count": 17
    },
    {
      "id": "80323941-8666-4f18-8a9b-393008f143c1",
      "cell_type": "code",
      "source": "print (t or f)  # Logical OR; prints \"True\"\nprint (not t )  # Logical NOT; prints \"False\"\nprint (t != f)  # Logical XOR; prints \"True\"  ",
      "metadata": {
        "trusted": true
      },
      "outputs": [
        {
          "name": "stdout",
          "output_type": "stream",
          "text": "True\nFalse\nTrue\n"
        }
      ],
      "execution_count": 18
    },
    {
      "id": "1e7f5229-b7c4-4809-a099-faa4980b3d90",
      "cell_type": "code",
      "source": "# 字符串",
      "metadata": {
        "trusted": true
      },
      "outputs": [],
      "execution_count": 19
    },
    {
      "id": "6a29ad62-523a-4889-ae5c-cf713548f2d5",
      "cell_type": "code",
      "source": "hello = 'hello'   # String literals can use single quotes\nworld = \"world\"   # or double quotes; it does not matter.\nprint(hello)\nprint(world)",
      "metadata": {
        "trusted": true
      },
      "outputs": [
        {
          "name": "stdout",
          "output_type": "stream",
          "text": "hello\nworld\n"
        }
      ],
      "execution_count": 20
    },
    {
      "id": "63180c9a-88dc-437e-be05-3f8b8a7df7af",
      "cell_type": "code",
      "source": "print (len(hello))  # String length; prints \"5\"",
      "metadata": {
        "trusted": true
      },
      "outputs": [
        {
          "name": "stdout",
          "output_type": "stream",
          "text": "5\n"
        }
      ],
      "execution_count": 22
    },
    {
      "id": "a3422cb1-9383-4aab-aee2-d0bf087122f1",
      "cell_type": "code",
      "source": "hw = hello + ' ' + world",
      "metadata": {
        "trusted": true
      },
      "outputs": [],
      "execution_count": 23
    },
    {
      "id": "5b2d8af2-01b1-46ab-8848-35cedc8bb098",
      "cell_type": "code",
      "source": "print (hw)  # prints \"hello world\"",
      "metadata": {
        "trusted": true
      },
      "outputs": [
        {
          "name": "stdout",
          "output_type": "stream",
          "text": "hello world\n"
        }
      ],
      "execution_count": 24
    },
    {
      "id": "714b06da-7295-498c-9e58-5eeabbe3cc6e",
      "cell_type": "code",
      "source": "print(type(hello))",
      "metadata": {
        "trusted": true
      },
      "outputs": [
        {
          "name": "stdout",
          "output_type": "stream",
          "text": "<class 'str'>\n"
        }
      ],
      "execution_count": 25
    },
    {
      "id": "31790308-5758-44bb-b8de-827d04f10d72",
      "cell_type": "code",
      "source": "hw12 = '%s %s %d' % (hello, world, 12)",
      "metadata": {
        "trusted": true
      },
      "outputs": [],
      "execution_count": 26
    },
    {
      "id": "0ad7cfdf-2b8b-4de6-acb2-aa909cc990b5",
      "cell_type": "code",
      "source": "print(hw12)",
      "metadata": {
        "trusted": true
      },
      "outputs": [
        {
          "name": "stdout",
          "output_type": "stream",
          "text": "hello world 12\n"
        }
      ],
      "execution_count": 27
    },
    {
      "id": "550d8025-b9c9-40ea-a056-d461782ee129",
      "cell_type": "code",
      "source": "# 容器Containers\n# Python有以下几种容器类型：列表（lists）、字典（dictionaries）、集合（sets）和元组（tuples）。",
      "metadata": {
        "trusted": true
      },
      "outputs": [],
      "execution_count": 29
    },
    {
      "id": "4924ea6d-a65d-4205-acfb-5e182ba9cf98",
      "cell_type": "code",
      "source": "# 列表Lists\nxs = [3, 1, 2]   # Create a list\nprint(xs, xs[2])",
      "metadata": {
        "trusted": true
      },
      "outputs": [
        {
          "name": "stdout",
          "output_type": "stream",
          "text": "[3, 1, 2] 2\n"
        }
      ],
      "execution_count": 30
    },
    {
      "id": "59fc55bf-3aff-4b63-81ea-981fc78fa714",
      "cell_type": "code",
      "source": "print (xs[-2] ) # Negative indices count from the end of the list; prints \"2\"",
      "metadata": {
        "trusted": true
      },
      "outputs": [
        {
          "name": "stdout",
          "output_type": "stream",
          "text": "1\n"
        }
      ],
      "execution_count": 32
    },
    {
      "id": "61285097-ec44-4905-9958-f1b555e9aa6f",
      "cell_type": "code",
      "source": "xs[2] = 'foo'\nxs.append('bar')\nprint (xs)",
      "metadata": {
        "trusted": true
      },
      "outputs": [
        {
          "name": "stdout",
          "output_type": "stream",
          "text": "[3, 1, 'foo', 'bar']\n"
        }
      ],
      "execution_count": 33
    },
    {
      "id": "fffc187e-ee9f-404d-be75-c95e0d9a70a4",
      "cell_type": "code",
      "source": "x = xs.pop()     # Remove and return the last element of the list\n\nprint (x, xs)      # Prints \"bar [3, 1, 'foo']\"",
      "metadata": {
        "trusted": true
      },
      "outputs": [
        {
          "name": "stdout",
          "output_type": "stream",
          "text": "bar [3, 1, 'foo']\n"
        }
      ],
      "execution_count": 34
    },
    {
      "id": "f69373c2-6f18-409e-97c5-d2c40f028cf8",
      "cell_type": "code",
      "source": "# 切片Slicing\nnums = list(range(5))\nprint (nums)\nprint (nums[2:4])\nprint(nums[2:])\nprint(nums[:2])\nprint(nums[:])\nprint (nums[:-1])\n",
      "metadata": {
        "trusted": true
      },
      "outputs": [
        {
          "name": "stdout",
          "output_type": "stream",
          "text": "[0, 1, 2, 3, 4]\n[2, 3]\n[2, 3, 4]\n[0, 1]\n[0, 1, 2, 3, 4]\n[0, 1, 2, 3]\n"
        }
      ],
      "execution_count": 39
    },
    {
      "id": "02cb68c0-d953-4406-a672-ce1801ad3b83",
      "cell_type": "code",
      "source": "nums[2:4] = [8, 9]\nprint (nums)",
      "metadata": {
        "trusted": true
      },
      "outputs": [
        {
          "name": "stdout",
          "output_type": "stream",
          "text": "[0, 1, 8, 9, 4]\n"
        }
      ],
      "execution_count": 40
    },
    {
      "id": "5074b69c-ba55-4eac-87b0-a8e3a24179de",
      "cell_type": "code",
      "source": "# 循环Loops\nanimals = ['cat', 'dog', 'monkey']\nfor animal in animals:\n    print(animal)",
      "metadata": {
        "trusted": true
      },
      "outputs": [
        {
          "name": "stdout",
          "output_type": "stream",
          "text": "cat\ndog\nmonkey\n"
        }
      ],
      "execution_count": 42
    },
    {
      "id": "bfbc875d-243b-4062-ba7c-0b1bfc6e0c7f",
      "cell_type": "code",
      "source": "for idx, animal in enumerate(animals):\n    print ('#%d: %s' % (idx + 1, animal))",
      "metadata": {
        "trusted": true
      },
      "outputs": [
        {
          "name": "stdout",
          "output_type": "stream",
          "text": "#1: cat\n#2: dog\n#3: monkey\n"
        }
      ],
      "execution_count": 43
    },
    {
      "id": "883e2c4d-4a8c-4165-8b35-bb2d74c64baa",
      "cell_type": "code",
      "source": "nums = [0, 1, 2, 3, 4]\nsquare = []\nfor x in nums:\n    square.append(x ** 2)\nprint(square)",
      "metadata": {
        "trusted": true
      },
      "outputs": [
        {
          "name": "stdout",
          "output_type": "stream",
          "text": "[0, 1, 4, 9, 16]\n"
        }
      ],
      "execution_count": 44
    },
    {
      "id": "46dd8be9-8c76-4972-9536-8b69c9727488",
      "cell_type": "code",
      "source": "nums = [0, 1, 2, 3, 4]\nsquares = [x ** 2 for x in nums]\nprint(square)",
      "metadata": {
        "trusted": true
      },
      "outputs": [
        {
          "name": "stdout",
          "output_type": "stream",
          "text": "[0, 1, 4, 9, 16]\n"
        }
      ],
      "execution_count": 45
    },
    {
      "id": "d0a68f7c-4aa5-41d9-b66e-e28629135421",
      "cell_type": "code",
      "source": "nums = [0, 1, 2, 3, 4]\neven_squares = [x ** 2 for x in nums if x % 2 == 0]\nprint (even_squares)",
      "metadata": {
        "trusted": true
      },
      "outputs": [
        {
          "name": "stdout",
          "output_type": "stream",
          "text": "[0, 4, 16]\n"
        }
      ],
      "execution_count": 46
    },
    {
      "id": "f3f895c7-13a4-4869-9983-05d6d14f0a2b",
      "cell_type": "code",
      "source": "# 字典Dictionaries\n\nd = {'cat': 'cute', 'dog': 'furry'}  # Create a new dictionary with some data\nprint (d['cat'])       # Get an entry from a dictionary; prints \"cute\"\nprint ('cat' in d)     # Check if a dictionary has a given key; prints \"True\"",
      "metadata": {
        "trusted": true
      },
      "outputs": [
        {
          "name": "stdout",
          "output_type": "stream",
          "text": "cute\nTrue\n"
        }
      ],
      "execution_count": 48
    },
    {
      "id": "2c68feea-6cbf-4a69-83c2-0f17c2670c23",
      "cell_type": "code",
      "source": "d['fish'] = 'wet'\nprint(d['fish'])",
      "metadata": {
        "trusted": true
      },
      "outputs": [
        {
          "name": "stdout",
          "output_type": "stream",
          "text": "wet\n"
        }
      ],
      "execution_count": 49
    },
    {
      "id": "c97904fe-357e-4485-90cb-229e33c467fd",
      "cell_type": "code",
      "source": "# print (d['monkey'])",
      "metadata": {
        "trusted": true
      },
      "outputs": [],
      "execution_count": 51
    },
    {
      "id": "23827eae-4764-4552-9ee7-3778b970c864",
      "cell_type": "code",
      "source": "print(d.get('monkey', 'N/A'))",
      "metadata": {
        "trusted": true
      },
      "outputs": [
        {
          "name": "stdout",
          "output_type": "stream",
          "text": "N/A\n"
        }
      ],
      "execution_count": 52
    },
    {
      "id": "3616aa81-09bd-45f6-9d10-281a8ab148e7",
      "cell_type": "code",
      "source": "print (d.get('fish', 'N/A'))    # Get an element with a default; prints \"wet\"",
      "metadata": {
        "trusted": true
      },
      "outputs": [
        {
          "name": "stdout",
          "output_type": "stream",
          "text": "wet\n"
        }
      ],
      "execution_count": 53
    },
    {
      "id": "66f0ae98-8ad2-4dfe-805c-c4679ac3ab5c",
      "cell_type": "code",
      "source": "del d['fish']        # Remove an element from a dictionary\nprint (d.get('fish', 'N/A'))    # Get an element with a default; prints \"wet\"",
      "metadata": {
        "trusted": true
      },
      "outputs": [
        {
          "name": "stdout",
          "output_type": "stream",
          "text": "N/A\n"
        }
      ],
      "execution_count": 54
    },
    {
      "id": "23679cca-836b-4e5e-82a8-4d3387ee5eef",
      "cell_type": "code",
      "source": "# 循环Loops\nd = {'person' : 2 , 'cat' : 4, 'spyder' : 8}\nfor animal in d:\n    legs = d[animal]\n    print('A %s has %d legs' %(animal, legs))\n",
      "metadata": {
        "trusted": true
      },
      "outputs": [
        {
          "name": "stdout",
          "output_type": "stream",
          "text": "A person has 2 legs\nA cat has 4 legs\nA spyder has 8 legs\n"
        }
      ],
      "execution_count": 56
    },
    {
      "id": "0189b771-84b9-4605-8a24-f17cfd13d800",
      "cell_type": "code",
      "source": "# 如果你想要访问键和对应的值，那就使用iteritems方法：",
      "metadata": {
        "trusted": true
      },
      "outputs": [],
      "execution_count": 57
    },
    {
      "id": "7cb4465e-286b-4439-8f8c-be66c20c2ba1",
      "cell_type": "code",
      "source": "d = {'person': 2, 'cat': 4, 'spider': 8}\nfor animal, legs in d.items():\n    print(f\"A {animal} has {legs} legs\")",
      "metadata": {
        "trusted": true
      },
      "outputs": [
        {
          "name": "stdout",
          "output_type": "stream",
          "text": "A person has 2 legs\nA cat has 4 legs\nA spider has 8 legs\n"
        }
      ],
      "execution_count": 60
    },
    {
      "id": "d3bbbeb1-d517-4123-a840-3d724323ce21",
      "cell_type": "code",
      "source": "# 字典推导Dictionary comprehensions\nnums = [0, 1, 2, 3, 4]\neven_num_to_square = {x: x ** 2 for x in nums if x % 2 == 0}\nprint (even_num_to_square)  ",
      "metadata": {
        "trusted": true
      },
      "outputs": [
        {
          "name": "stdout",
          "output_type": "stream",
          "text": "{0: 0, 2: 4, 4: 16}\n"
        }
      ],
      "execution_count": 61
    },
    {
      "id": "a71fda7b-b860-46a5-8822-8da2da38f6e9",
      "cell_type": "code",
      "source": "# 集合Sets   集合是独立不同个体的无序集合\nanimals = {'cat', 'dog'}\nprint ('cat' in animals)   # Check if an element is in a set; prints \"True\"\nprint ('fish' in animals)  # prints \"False\"",
      "metadata": {
        "trusted": true
      },
      "outputs": [
        {
          "name": "stdout",
          "output_type": "stream",
          "text": "True\nFalse\n"
        }
      ],
      "execution_count": 71
    },
    {
      "id": "a6443926-5325-4926-8b0e-7167b85d7e80",
      "cell_type": "code",
      "source": "animals.add('fish')      # Add an element to a set\nprint ('fish' in animals)  # Prints \"True\"",
      "metadata": {
        "trusted": true
      },
      "outputs": [
        {
          "name": "stdout",
          "output_type": "stream",
          "text": "True\n"
        }
      ],
      "execution_count": 63
    },
    {
      "id": "4ece7c28-18f2-4ec4-8d74-a03bd091526f",
      "cell_type": "code",
      "source": "print (len(animals)  )     # Number of elements in a set; prints \"3\"",
      "metadata": {
        "trusted": true
      },
      "outputs": [
        {
          "name": "stdout",
          "output_type": "stream",
          "text": "3\n"
        }
      ],
      "execution_count": 64
    },
    {
      "id": "a5282923-2fe0-439b-9bb9-154f72f64a99",
      "cell_type": "code",
      "source": "animals.add('cat')  \nprint (len(animals)  )     # Number of elements in a set; prints \"3\"\n",
      "metadata": {
        "trusted": true
      },
      "outputs": [
        {
          "name": "stdout",
          "output_type": "stream",
          "text": "3\n"
        }
      ],
      "execution_count": 65
    },
    {
      "id": "3a13959d-a592-456b-b454-16571f142fde",
      "cell_type": "code",
      "source": "animals.remove('cat')    # Remove an element from a set\nprint (len(animals))       # Prints \"2\"",
      "metadata": {
        "trusted": true
      },
      "outputs": [
        {
          "name": "stdout",
          "output_type": "stream",
          "text": "2\n"
        }
      ],
      "execution_count": 67
    },
    {
      "id": "0b514ae5-4407-474a-93ef-3cd803011b1d",
      "cell_type": "code",
      "source": "animals = {'cat', 'dog', 'fish'}\nfor idx, animal in enumerate(animals):\n    print(f'#{idx + 1} : {animal}')",
      "metadata": {
        "trusted": true
      },
      "outputs": [
        {
          "name": "stdout",
          "output_type": "stream",
          "text": "#1 : dog\n#2 : fish\n#3 : cat\n"
        }
      ],
      "execution_count": 69
    },
    {
      "id": "c10a852b-d9b3-4eeb-b066-f989ca368873",
      "cell_type": "code",
      "source": "from math import sqrt\nnums = {int(sqrt(x)) for x in range(30)}\nprint (nums)  # Prints \"set([0, 1, 2, 3, 4, 5])\"",
      "metadata": {
        "trusted": true
      },
      "outputs": [
        {
          "name": "stdout",
          "output_type": "stream",
          "text": "{0, 1, 2, 3, 4, 5}\n"
        }
      ],
      "execution_count": 70
    },
    {
      "id": "eac869a9-c028-460c-9bda-ec77e682a667",
      "cell_type": "code",
      "source": "# 元组Tuples\n\n\nd = {(x, x + 1): x for x in range(10)}  # Create a dictionary with tuple keys\nprint d\nt = (5, 6)       # Create a tuple\nprint type(t)    # Prints \"<type 'tuple'>\"\nprint d[t]       # Prints \"5\"\nprint d[(1, 2)]  # Prints \"1\"",
      "metadata": {
        "trusted": true
      },
      "outputs": [],
      "execution_count": null
    }
  ]
}